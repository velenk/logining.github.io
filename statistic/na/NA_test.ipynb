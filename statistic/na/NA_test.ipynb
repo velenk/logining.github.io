{
 "cells": [
  {
   "cell_type": "code",
   "execution_count": 8,
   "metadata": {},
   "outputs": [
    {
     "name": "stdout",
     "output_type": "stream",
     "text": [
      "100000.4999989173\n"
     ]
    }
   ],
   "source": [
    "import numpy as np\n",
    "n = 100000\n",
    "ans = 0\n",
    "for i in range(n+1):\n",
    "    ans += np.cos(i*np.pi/n)\n",
    "print(np.sqrt(n*n+n)+n*ans)"
   ]
  },
  {
   "cell_type": "code",
   "execution_count": 1,
   "metadata": {},
   "outputs": [
    {
     "data": {
      "text/plain": [
       "0.000125"
      ]
     },
     "execution_count": 1,
     "metadata": {},
     "output_type": "execute_result"
    }
   ],
   "source": [
    "import numpy as np\n",
    "a = 4000\n",
    "0.5/a"
   ]
  },
  {
   "cell_type": "code",
   "execution_count": 22,
   "metadata": {},
   "outputs": [
    {
     "data": {
      "text/plain": [
       "6.12724501225449e-13"
      ]
     },
     "execution_count": 22,
     "metadata": {},
     "output_type": "execute_result"
    }
   ],
   "source": [
    "a = -12345678987654321\n",
    "b = 123\n",
    "(b**2)/((a**2 + b**2)**0.5 - a)"
   ]
  },
  {
   "cell_type": "code",
   "execution_count": 14,
   "metadata": {},
   "outputs": [
    {
     "data": {
      "text/plain": [
       "-0.0005002450796476321"
      ]
     },
     "execution_count": 14,
     "metadata": {},
     "output_type": "execute_result"
    }
   ],
   "source": [
    "sig = 1\n",
    "x = 1.00001\n",
    "ans = -1\n",
    "for i in range(99):\n",
    "    ans = x * ans + sig\n",
    "    sig *= -1\n",
    "ans"
   ]
  },
  {
   "cell_type": "code",
   "execution_count": 16,
   "metadata": {
    "scrolled": true
   },
   "outputs": [
    {
     "data": {
      "text/plain": [
       "3.782781379801925e-16"
      ]
     },
     "execution_count": 16,
     "metadata": {},
     "output_type": "execute_result"
    }
   ],
   "source": [
    "(1-x)*(1-x**100)/(1-x**2) - ans"
   ]
  },
  {
   "cell_type": "code",
   "execution_count": 20,
   "metadata": {},
   "outputs": [
    {
     "name": "stdout",
     "output_type": "stream",
     "text": [
      "1.062211848441645e-11\n",
      "-282429536481.0\n"
     ]
    }
   ],
   "source": [
    "a = 1\n",
    "b = 9**12\n",
    "c = -3\n",
    "ans = -b - (b**2 - 4*a*c)**0.5\n",
    "x1 = 2*c/ans\n",
    "x2 = ans/2/a\n",
    "print(x1)\n",
    "print(x2)"
   ]
  },
  {
   "cell_type": "code",
   "execution_count": 2,
   "metadata": {},
   "outputs": [],
   "source": [
    "import math"
   ]
  },
  {
   "cell_type": "code",
   "execution_count": 33,
   "metadata": {},
   "outputs": [
    {
     "name": "stdout",
     "output_type": "stream",
     "text": [
      "   4         3         2\n",
      "4 x - 8.319 x + 8.929 x - 3.473 x + 1.581\n",
      "1.9589096433405886\n",
      "2.6128479259385866\n"
     ]
    }
   ],
   "source": [
    "def fx(x):\n",
    "    return math.exp(x*x)\n",
    "\n",
    "def lagrange(x, y):\n",
    "    M = len(x)\n",
    "    p = 0.0\n",
    "    for j in range(M):\n",
    "        pt = y[j]\n",
    "        for k in range(M):\n",
    "            if k == j:\n",
    "                continue\n",
    "            fac = x[j]-x[k]\n",
    "            pt *= np.poly1d([1.0, -x[k]])/fac\n",
    "        p += pt\n",
    "    return p\n",
    "\n",
    "xi = [0.6, 0.7, 0.8, 0.9, 1.0]\n",
    "yi = []\n",
    "for i in range(5):\n",
    "    ans = fx(xi[i])\n",
    "    yi.append(ans)\n",
    "\n",
    "Lp = lagrange(xi, yi)\n",
    "print(Lp)\n",
    "print(Lp(0.82))\n",
    "print(Lp(0.98))"
   ]
  },
  {
   "cell_type": "code",
   "execution_count": 40,
   "metadata": {},
   "outputs": [
    {
     "name": "stdout",
     "output_type": "stream",
     "text": [
      "5.3735865035163305e-05\n",
      "-1.1985898523732654e-05\n",
      "-2.3479573626028483e-05\n",
      "-0.00021657181968717416\n",
      "4.0786648120852294e-05\n",
      "0.00010656496252092751\n"
     ]
    }
   ],
   "source": [
    "def f5(x):\n",
    "#     ans = fx(x)\n",
    "#     ans *= (16*(x**4) + 48*x*x + 12)\n",
    "    ans = fx(1) * (32+160+120)\n",
    "    return ans\n",
    "\n",
    "def cal02(x):\n",
    "    ans = f5(x)\n",
    "    for i in range(5):\n",
    "        ans *= x-xi[i]\n",
    "        ans /= i+1.0\n",
    "    return ans\n",
    "\n",
    "print(cal02(0.82))\n",
    "print((Lp(0.82)-fx(0.82))/fx(0.82))\n",
    "print(Lp(0.82)-fx(0.82))\n",
    "print(cal02(0.98))\n",
    "print((Lp(0.98)-fx(0.98))/fx(0.98))\n",
    "print(Lp(0.98)-fx(0.98))"
   ]
  },
  {
   "cell_type": "code",
   "execution_count": 41,
   "metadata": {},
   "outputs": [
    {
     "data": {
      "image/png": "[encoded data removed]",
      "text/plain": [
       "<Figure size 432x288 with 1 Axes>"
      ]
     },
     "metadata": {
      "needs_background": "light"
     },
     "output_type": "display_data"
    },
    {
     "data": {
      "image/png": "[encoded data removed]",
      "text/plain": [
       "<Figure size 432x288 with 1 Axes>"
      ]
     },
     "metadata": {
      "needs_background": "light"
     },
     "output_type": "display_data"
    }
   ],
   "source": [
    "import matplotlib.pyplot as plt\n",
    "from pylab import *\n",
    "\n",
    "def draw(a, b):\n",
    "    mpl.rcParams['font.sans-serif'] = ['SimHei']\n",
    "    mpl.rcParams['axes.unicode_minus'] = False\n",
    "    xj = np.linspace(a, b, 100)\n",
    "    y = []\n",
    "    for xjj in xj:\n",
    "        y.append(Lp(xjj)-fx(xjj))\n",
    "    plt.plot(xj, y, label='误差')\n",
    "    plt.xlabel('x')\n",
    "    plt.ylabel('y')\n",
    "    plt.legend()\n",
    "    \n",
    "    plt.show()\n",
    "\n",
    "draw(0.5, 1.0)\n",
    "draw(0.0, 2.0)"
   ]
  },
  {
   "cell_type": "code",
   "execution_count": 42,
   "metadata": {},
   "outputs": [
    {
     "name": "stdout",
     "output_type": "stream",
     "text": [
      "        2\n",
      "0.1667 x - 0.5 x + 1.333\n"
     ]
    }
   ],
   "source": [
    "xii = [1, 2, 4]\n",
    "yii = [1, 1, 2]\n",
    "Lpi = lagrange(xii, yii)\n",
    "print(Lpi)"
   ]
  },
  {
   "cell_type": "code",
   "execution_count": 18,
   "metadata": {},
   "outputs": [
    {
     "name": "stdout",
     "output_type": "stream",
     "text": [
      "[[ 0.66666667]\n",
      " [-1.39285714]\n",
      " [-0.13095238]]\n"
     ]
    }
   ],
   "source": [
    "import numpy as np\n",
    "x = np.array([-3, -2, -1, 0, 1, 2, 3])\n",
    "y = np.array([4, 2, 3, 0, -1, -2, -5])\n",
    "Y = np.array([y]).T\n",
    "x0 = np.zeros(7, int) + 1\n",
    "x2 = x**2\n",
    "A = np.array([x0, x, x2])\n",
    "A = A.T\n",
    "print(np.linalg.inv(A.T.dot(A)).dot(A.T).dot(Y))"
   ]
  },
  {
   "cell_type": "code",
   "execution_count": 24,
   "metadata": {},
   "outputs": [
    {
     "name": "stdout",
     "output_type": "stream",
     "text": [
      "[[-2.63562548]\n",
      " [ 0.14364618]\n",
      " [ 0.55144696]\n",
      " [ 3.22294034]\n",
      " [-0.43289427]]\n"
     ]
    }
   ],
   "source": [
    "import numpy as np\n",
    "x = np.array([1.02, 0.95, 0.87, 0.77, 0.67, 0.56, 0.44, 0.3, 0.16, 0.01])\n",
    "y = np.array([0.39, 0.32, 0.27, 0.22, 0.18, 0.15, 0.13, 0.12, 0.13, 0.15])\n",
    "Z = np.array([x**2]).T\n",
    "x1 = y**2\n",
    "x2 = x*y\n",
    "x3 = x\n",
    "x4 = y\n",
    "x5 = np.zeros(10, int) + 1\n",
    "A = np.array([x1, x2, x3, x4, x5]).T\n",
    "print(np.linalg.inv(A.T.dot(A)).dot(A.T).dot(Z))"
   ]
  },
  {
   "cell_type": "code",
   "execution_count": 2,
   "metadata": {},
   "outputs": [
    {
     "data": {
      "text/plain": [
       "-9.348469228349533"
      ]
     },
     "execution_count": 2,
     "metadata": {},
     "output_type": "execute_result"
    }
   ],
   "source": [
    "import numpy as np\n",
    "-2-3*np.sqrt(6)"
   ]
  },
  {
   "cell_type": "code",
   "execution_count": 14,
   "metadata": {
    "scrolled": true
   },
   "outputs": [
    {
     "name": "stdout",
     "output_type": "stream",
     "text": [
      "3.1688347209257826\n",
      "3.107283200823246\n",
      "3.045481440466513\n",
      "0.7853981633974483\n",
      "0.7853981633974483\n",
      "0.7853981633974483\n",
      "0.19309754003008825\n",
      "0.16386476820734694\n",
      "1.2853981633974483\n",
      "1.3283366297226638\n"
     ]
    }
   ],
   "source": [
    "import numpy as np\n",
    "\n",
    "def f1(x):\n",
    "    return np.exp(x)\n",
    "\n",
    "def f2(x):\n",
    "    return np.sin(x) ** 2\n",
    "\n",
    "def f3(x):\n",
    "    return np.exp(-x**2)\n",
    "\n",
    "def f4(x):\n",
    "    if x == 0:\n",
    "        return 1\n",
    "    return np.sin(x)/x\n",
    "\n",
    "def f1_int(a, b):\n",
    "    return f1(b) - f1(a)\n",
    "\n",
    "def f2_int(a, b):\n",
    "    return 1/2*(b-a) - 1/4*np.sin(2*b) + 1/4*np.sin(2*a)\n",
    "\n",
    "def solve(fx, a, b):\n",
    "    ix1 = (fx(a) + fx(b))/2 * (b-a)\n",
    "    print(ix1)\n",
    "    ix2 = (fx(a) + fx((a+b)/2) + fx(b))/3 * (b-a)\n",
    "    print(ix2)\n",
    "    return\n",
    "\n",
    "solve(f1, 1.1, 1.8)\n",
    "print(f1_int(1.1, 1.8))\n",
    "solve(f2, 0, np.pi/2)\n",
    "print(f2_int(0, np.pi/2))\n",
    "solve(f3, 1, 2)\n",
    "solve(f4, 0, np.pi/2)"
   ]
  },
  {
   "cell_type": "code",
   "execution_count": 18,
   "metadata": {},
   "outputs": [
    {
     "data": {
      "text/plain": [
       "0.4291926813666827"
      ]
     },
     "execution_count": 18,
     "metadata": {},
     "output_type": "execute_result"
    }
   ],
   "source": [
    "14/np.exp(1)/12"
   ]
  },
  {
   "cell_type": "code",
   "execution_count": 19,
   "metadata": {},
   "outputs": [
    {
     "data": {
      "text/plain": [
       "0.009707929697579727"
      ]
     },
     "execution_count": 19,
     "metadata": {},
     "output_type": "execute_result"
    }
   ],
   "source": [
    "(16*16-48*4+12)*np.exp(-1)/2880"
   ]
  },
  {
   "cell_type": "code",
   "execution_count": 29,
   "metadata": {},
   "outputs": [
    {
     "name": "stdout",
     "output_type": "stream",
     "text": [
      "0.07437670552882485\n",
      "0.0025547183414683493\n",
      "0.027777769450940126\n",
      "6.987080667128806e-05\n"
     ]
    },
    {
     "name": "stderr",
     "output_type": "stream",
     "text": [
      "C:\\Users\\10309\\Anaconda3\\lib\\site-packages\\ipykernel_launcher.py:8: RuntimeWarning: invalid value encountered in double_scalars\n",
      "  \n",
      "C:\\Users\\10309\\Anaconda3\\lib\\site-packages\\ipykernel_launcher.py:11: RuntimeWarning: invalid value encountered in double_scalars\n",
      "  # This is added back by InteractiveShellApp.init_path()\n"
     ]
    }
   ],
   "source": [
    "def r1(x):\n",
    "    return np.exp(-x**2)*(4*x**2-2)/12\n",
    "\n",
    "def r2(x):\n",
    "    return np.exp(-x**2)*(16*x**4-48*x**2+12)/2880\n",
    "\n",
    "def r3(x):\n",
    "    return ((x**2-2)*np.sin(x)+2*x*np.cos(x))/12/x**3\n",
    "\n",
    "def r4(x):\n",
    "    return ((x**4-12*x**2+24)*np.sin(x)+(4*x**3-24*x)*np.cos(x))/2880/x**5\n",
    "\n",
    "def solve2(rx, a, b):\n",
    "    r = 0\n",
    "    for i in np.arange(a, b, 0.001):\n",
    "        temp = np.fabs(rx(i))\n",
    "        if r < temp:\n",
    "            r = temp\n",
    "    print(r)\n",
    "    return\n",
    "\n",
    "solve2(r1, 1, 2)\n",
    "solve2(r2, 1, 2)\n",
    "solve2(r3, 0, np.pi/2)\n",
    "solve2(r4, 0, np.pi/2)"
   ]
  },
  {
   "cell_type": "code",
   "execution_count": 2,
   "metadata": {},
   "outputs": [
    {
     "data": {
      "text/plain": [
       "1.1097339094673888"
      ]
     },
     "execution_count": 2,
     "metadata": {},
     "output_type": "execute_result"
    }
   ],
   "source": [
    "import numpy as np\n",
    "np.sqrt(np.exp(1)*np.exp(1)/6)"
   ]
  },
  {
   "cell_type": "code",
   "execution_count": 4,
   "metadata": {},
   "outputs": [
    {
     "name": "stdout",
     "output_type": "stream",
     "text": [
      "4.487560327818263\n"
     ]
    }
   ],
   "source": [
    "import numpy as np\n",
    "\n",
    "def fun(x):\n",
    "    return np.exp(x)*np.sin(x)\n",
    "\n",
    "def tx(a,b,n):\n",
    "    h=(b-a)/n\n",
    "    x=a\n",
    "    s=fun(x)-fun(b)\n",
    "    for k in range(1,n+1):\n",
    "        x=x+h\n",
    "        s=s+2*fun(x)\n",
    "    res=(h/2)*s\n",
    "    return res\n",
    "\n",
    "print(tx(1,2,1110))"
   ]
  },
  {
   "cell_type": "code",
   "execution_count": 2,
   "metadata": {},
   "outputs": [
    {
     "name": "stdout",
     "output_type": "stream",
     "text": [
      "10.950170352167321\n"
     ]
    }
   ],
   "source": [
    "import math\n",
    "import numpy as np\n",
    "\n",
    "def fun(x):\n",
    "    return np.exp(x)*np.sin(x)\n",
    "\n",
    "def T_2n(a, b, n, T_n):\n",
    "    h = (b - a)/n\n",
    "    sum_f = 0.\n",
    "    for k in range(0, n):\n",
    "        sum_f = sum_f + fun(a + (k + 0.5)*h)\n",
    "    T_2n = T_n/2. + sum_f*h/2.\n",
    "    return T_2n\n",
    "\n",
    "def Romberg(a, b, err_min):\n",
    "    kmax = 99\n",
    "    tm = np.zeros(kmax,dtype = float)\n",
    "    tm1 = np.zeros(kmax,dtype = float)\n",
    "    tm[0] = 0.5*(b-a)*(fun(a) + fun(b))\n",
    "    err = 1.\n",
    "    k = 0\n",
    "    while(err>err_min):\n",
    "        n = 2**k\n",
    "        m = 1\n",
    "        tm1[0] = T_2n(a, b, n, tm[0]) \n",
    "        while(err>err_min and m <= (k+1)):\n",
    "            tm1[m] = tm1[m-1]+(tm1[m-1]-(tm[m-1]))/(4.**m-1)\n",
    "            result = tm1[m]\n",
    "            err1 = abs(tm1[m]-tm[m-1])\n",
    "            err2 = abs(tm1[m]-tm1[m-1])\n",
    "            err = min(err1,err2)\n",
    "            m = m+1\n",
    "        tm = np.copy(tm1)\n",
    "        k = k+1\n",
    "    return result\n",
    "\n",
    "print(Romberg(1, 3, 1.e-6))"
   ]
  },
  {
   "cell_type": "code",
   "execution_count": 1,
   "metadata": {},
   "outputs": [
    {
     "data": {
      "text/plain": [
       "array([ 1., -1.,  1., -1.])"
      ]
     },
     "execution_count": 1,
     "metadata": {},
     "output_type": "execute_result"
    }
   ],
   "source": [
    "import numpy as np\n",
    "x = np.array([[6, 2, 1, -1],\n",
    "              [2, 4, 1, 0],\n",
    "              [1, 1, 4, -1],\n",
    "              [-1, 0, -1, 3]])\n",
    "np.linalg.solve(x, np.array([6, -1, 5, -5]))"
   ]
  },
  {
   "cell_type": "code",
   "execution_count": 2,
   "metadata": {},
   "outputs": [
    {
     "name": "stdout",
     "output_type": "stream",
     "text": [
      "[[ 9.00000000e+00 -4.00000000e+00  1.00000000e+00  0.00000000e+00\n",
      "   0.00000000e+00  0.00000000e+00  0.00000000e+00  0.00000000e+00\n",
      "   0.00000000e+00  0.00000000e+00]\n",
      " [-4.44444444e-01  4.22222222e+00 -3.55555556e+00  1.00000000e+00\n",
      "   0.00000000e+00  0.00000000e+00  0.00000000e+00  0.00000000e+00\n",
      "   0.00000000e+00  0.00000000e+00]\n",
      " [ 1.11111111e-01 -8.42105263e-01  2.89473684e+00 -3.15789474e+00\n",
      "   1.00000000e+00  0.00000000e+00  0.00000000e+00  0.00000000e+00\n",
      "   0.00000000e+00  0.00000000e+00]\n",
      " [ 0.00000000e+00  2.36842105e-01 -1.09090909e+00  2.31818182e+00\n",
      "  -2.90909091e+00  1.00000000e+00  0.00000000e+00  0.00000000e+00\n",
      "   0.00000000e+00  0.00000000e+00]\n",
      " [ 0.00000000e+00  0.00000000e+00  3.45454545e-01 -1.25490196e+00\n",
      "   2.00392157e+00 -2.74509804e+00  1.00000000e+00  0.00000000e+00\n",
      "   0.00000000e+00  0.00000000e+00]\n",
      " [ 0.00000000e+00  0.00000000e+00  0.00000000e+00  4.31372549e-01\n",
      "  -1.36986301e+00  1.80821918e+00 -2.63013699e+00  1.00000000e+00\n",
      "   0.00000000e+00  0.00000000e+00]\n",
      " [ 0.00000000e+00  0.00000000e+00  0.00000000e+00  0.00000000e+00\n",
      "   4.99021526e-01 -1.45454545e+00  1.67532468e+00 -2.54545455e+00\n",
      "   1.00000000e+00  0.00000000e+00]\n",
      " [ 0.00000000e+00  0.00000000e+00  0.00000000e+00  0.00000000e+00\n",
      "   0.00000000e+00  5.53030303e-01 -1.51937984e+00  1.57945736e+00\n",
      "  -2.48062016e+00  1.00000000e+00]\n",
      " [ 0.00000000e+00  0.00000000e+00  0.00000000e+00  0.00000000e+00\n",
      "   0.00000000e+00  0.00000000e+00  5.96899225e-01 -1.57055215e+00\n",
      "   5.07157464e-01 -4.29447853e-01]\n",
      " [ 0.00000000e+00  0.00000000e+00  0.00000000e+00  0.00000000e+00\n",
      "   0.00000000e+00  0.00000000e+00  0.00000000e+00  6.33128834e-01\n",
      "  -8.46774194e-01  3.22580645e-03]]\n"
     ]
    }
   ],
   "source": [
    "import numpy as np\n",
    "import pandas as pd\n",
    " \n",
    "def LU(A):\n",
    "    n=len(A[0])\n",
    "    for i in range(n):\n",
    "        if i==0:\n",
    "            for j in range(1,n):\n",
    "                A[j][0]=A[j][0]/A[0][0]\n",
    "        else:\n",
    "                for j in range(i, n):\n",
    "                    temp=0\n",
    "                    for k in range(0, i):\n",
    "                        temp = temp+A[i][k] * A[k][j]\n",
    "                    A[i][j]=A[i][j]-temp\n",
    "                for j in range(i+1, n):\n",
    "                    temp = 0\n",
    "                    for k in range(0, i ):\n",
    "                        temp = temp + A[j][k] * A[k][i]\n",
    "                    A[j][i] = (A[j][i] - temp)/A[i][i]\n",
    "    return A\n",
    "\n",
    "x = np.zeros((10, 10))\n",
    "x[0][0] = 9\n",
    "for i in range(7):\n",
    "    x[i+1][i+1] = 6\n",
    "x[8][8] = 5\n",
    "x[9][9] = 1\n",
    "for i in range(8):\n",
    "    x[i][i+1] = x[i+1][i] = -4\n",
    "x[8][9] = x[9][8] = -2\n",
    "for i in range(8):\n",
    "    x[i][i+2] = x[i+2][i] = 1\n",
    "    \n",
    "print(LU(x))"
   ]
  },
  {
   "cell_type": "code",
   "execution_count": 3,
   "metadata": {},
   "outputs": [
    {
     "data": {
      "text/plain": [
       "array([ 0.5       , -0.14285714,  1.21428571])"
      ]
     },
     "execution_count": 3,
     "metadata": {},
     "output_type": "execute_result"
    }
   ],
   "source": [
    "import numpy as np\n",
    "x = np.array([[1, 2, -1],\n",
    "              [-3, 1, 3],\n",
    "              [3, -2, 1]])\n",
    "np.linalg.solve(x, np.array([-1, 2, 3]))"
   ]
  },
  {
   "cell_type": "code",
   "execution_count": 4,
   "metadata": {},
   "outputs": [
    {
     "data": {
      "text/plain": [
       "1.2142857142857142"
      ]
     },
     "execution_count": 4,
     "metadata": {},
     "output_type": "execute_result"
    }
   ],
   "source": [
    "17/14"
   ]
  },
  {
   "cell_type": "code",
   "execution_count": null,
   "metadata": {},
   "outputs": [],
   "source": []
  }
 ],
 "metadata": {
  "kernelspec": {
   "display_name": "Python 3",
   "language": "python",
   "name": "python3"
  },
  "language_info": {
   "codemirror_mode": {
    "name": "ipython",
    "version": 3
   },
   "file_extension": ".py",
   "mimetype": "text/x-python",
   "name": "python",
   "nbconvert_exporter": "python",
   "pygments_lexer": "ipython3",
   "version": "3.7.4"
  }
 },
 "nbformat": 4,
 "nbformat_minor": 2
}
