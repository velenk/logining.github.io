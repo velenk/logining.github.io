{
 "cells": [
  {
   "cell_type": "code",
   "execution_count": 68,
   "metadata": {
    "scrolled": false
   },
   "outputs": [
    {
     "name": "stdout",
     "output_type": "stream",
     "text": [
      "13\n",
      "[ 1.00000006  0.99999038  1.00038941  0.99327396  1.06216203  0.65488996\n",
      "  2.22734083 -1.89225271  5.56657209 -3.77676509  4.17553453 -0.21463552\n",
      "  1.20350015]\n",
      "2.220446049250313e-16\n",
      "4.7767650891418025\n",
      "6.841306459777838e+16\n"
     ]
    }
   ],
   "source": [
    "import numpy as np\n",
    "\n",
    "def solve(n):\n",
    "\n",
    "    H = np.zeros((n, n))\n",
    "    x0 = np.zeros(n) + 1\n",
    "    x = np.zeros(n)\n",
    "\n",
    "    for i in range(n):\n",
    "        for j in range(n):\n",
    "            H[i][j] = 1/(i+j+1)\n",
    "\n",
    "    # H = np.array([[1., 2., -1.],\n",
    "    #              [-3., 1., 3.],\n",
    "    #              [3., -2., 1.]])\n",
    "\n",
    "    # b = np.array([-1., 2., 3.])\n",
    "    H0 = np.copy(H)\n",
    "    b = np.dot(H, x0.T)\n",
    "    b0 = np.max(np.abs(b))\n",
    "    # print(H)\n",
    "    # print(b)\n",
    "\n",
    "    for i in range(n-1):\n",
    "        ans = i\n",
    "        for j in range(i,n):\n",
    "            if np.abs(H[j][i]) > np.abs(H[ans][i]):\n",
    "                ans = j\n",
    "        b[i], b[ans] = b[ans], b[i]\n",
    "        H[[i, ans], :] = H[[ans, i], :]\n",
    "#         print(i)\n",
    "#         print(H)\n",
    "#         print(b)\n",
    "        if H[i][i] == 0:\n",
    "            continue\n",
    "        for j in range(i+1, n):\n",
    "            res = H[j][i] / H[i][i]\n",
    "            H[j] = H[j] - H[i] * res\n",
    "            b[j] = b[j] - b[i] * res\n",
    "#         print(H)\n",
    "#         print(b)\n",
    "\n",
    "\n",
    "    # print(H)\n",
    "    # print(b)\n",
    "\n",
    "    for i0 in range(n):\n",
    "        i = n-1-i0\n",
    "        ans = b[i]\n",
    "        for j0 in range(i0):\n",
    "            j = n-1-j0\n",
    "            ans -= x[j] * H[i][j]\n",
    "        x[i] = ans / H[i][i]\n",
    "\n",
    "#     print(H0)\n",
    "#     print(x)\n",
    "\n",
    "    r0 = np.dot(H0, x0.T) - np.dot(H0, x.T)\n",
    "    r1 = np.max(np.abs(r0))\n",
    "    r2 = np.max(np.abs(x - x0))\n",
    "    cond = r2 / r1 * b0\n",
    "    \n",
    "    return (x, r1, r2, cond)\n",
    "\n",
    "# res0 = solve(100)\n",
    "for i in range(10, 100):\n",
    "    res0 = solve(i)\n",
    "    if res0[2] > 1:\n",
    "        print(i)\n",
    "        break\n",
    "\n",
    "\n",
    "print(res0[0])\n",
    "# 解向量\n",
    "print(res0[1])\n",
    "# 后向误差\n",
    "print(res0[2])\n",
    "# 前向误差\n",
    "print(res0[3])\n",
    "# 条件数"
   ]
  },
  {
   "cell_type": "code",
   "execution_count": null,
   "metadata": {},
   "outputs": [],
   "source": []
  }
 ],
 "metadata": {
  "kernelspec": {
   "display_name": "Python 3",
   "language": "python",
   "name": "python3"
  },
  "language_info": {
   "codemirror_mode": {
    "name": "ipython",
    "version": 3
   },
   "file_extension": ".py",
   "mimetype": "text/x-python",
   "name": "python",
   "nbconvert_exporter": "python",
   "pygments_lexer": "ipython3",
   "version": "3.7.4"
  }
 },
 "nbformat": 4,
 "nbformat_minor": 2
}
